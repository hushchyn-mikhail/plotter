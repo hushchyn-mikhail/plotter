{
 "cells": [
  {
   "cell_type": "markdown",
   "metadata": {},
   "source": [
    "# Error Analysis of Track Pattern Recognition Methods"
   ]
  },
  {
   "cell_type": "code",
   "execution_count": 1,
   "metadata": {
    "collapsed": false
   },
   "outputs": [],
   "source": [
    "%matplotlib inline\n",
    "import matplotlib.pyplot as plt\n",
    "\n",
    "import pandas\n",
    "import numpy\n",
    "\n",
    "import user_test_submission as submission"
   ]
  },
  {
   "cell_type": "markdown",
   "metadata": {},
   "source": [
    "# Input data"
   ]
  },
  {
   "cell_type": "code",
   "execution_count": 2,
   "metadata": {
    "collapsed": false
   },
   "outputs": [
    {
     "data": {
      "text/html": [
       "<div>\n",
       "<table border=\"1\" class=\"dataframe\">\n",
       "  <thead>\n",
       "    <tr style=\"text-align: right;\">\n",
       "      <th></th>\n",
       "      <th>event_id</th>\n",
       "      <th>cluster_id</th>\n",
       "      <th>layer</th>\n",
       "      <th>iphi</th>\n",
       "      <th>x</th>\n",
       "      <th>y</th>\n",
       "    </tr>\n",
       "  </thead>\n",
       "  <tbody>\n",
       "    <tr>\n",
       "      <th>0</th>\n",
       "      <td>200100</td>\n",
       "      <td>1</td>\n",
       "      <td>1</td>\n",
       "      <td>10210</td>\n",
       "      <td>-84.183998</td>\n",
       "      <td>11.749662</td>\n",
       "    </tr>\n",
       "    <tr>\n",
       "      <th>1</th>\n",
       "      <td>200100</td>\n",
       "      <td>0</td>\n",
       "      <td>2</td>\n",
       "      <td>28849</td>\n",
       "      <td>-9.194540</td>\n",
       "      <td>-154.727051</td>\n",
       "    </tr>\n",
       "    <tr>\n",
       "      <th>2</th>\n",
       "      <td>200100</td>\n",
       "      <td>5</td>\n",
       "      <td>8</td>\n",
       "      <td>7919</td>\n",
       "      <td>922.630937</td>\n",
       "      <td>385.684008</td>\n",
       "    </tr>\n",
       "    <tr>\n",
       "      <th>3</th>\n",
       "      <td>200100</td>\n",
       "      <td>3</td>\n",
       "      <td>6</td>\n",
       "      <td>24776</td>\n",
       "      <td>-332.660900</td>\n",
       "      <td>452.968791</td>\n",
       "    </tr>\n",
       "    <tr>\n",
       "      <th>4</th>\n",
       "      <td>200100</td>\n",
       "      <td>1</td>\n",
       "      <td>0</td>\n",
       "      <td>4726</td>\n",
       "      <td>-38.754876</td>\n",
       "      <td>4.365727</td>\n",
       "    </tr>\n",
       "  </tbody>\n",
       "</table>\n",
       "</div>"
      ],
      "text/plain": [
       "   event_id  cluster_id  layer   iphi           x           y\n",
       "0    200100           1      1  10210  -84.183998   11.749662\n",
       "1    200100           0      2  28849   -9.194540 -154.727051\n",
       "2    200100           5      8   7919  922.630937  385.684008\n",
       "3    200100           3      6  24776 -332.660900  452.968791\n",
       "4    200100           1      0   4726  -38.754876    4.365727"
      ]
     },
     "execution_count": 2,
     "metadata": {},
     "output_type": "execute_result"
    }
   ],
   "source": [
    "name = \"m20_ptmin300_ptmax10000\"\n",
    "data = pandas.read_csv('datasets/'+name+'.csv', index_col=False)\n",
    "\n",
    "data.head()"
   ]
  },
  {
   "cell_type": "markdown",
   "metadata": {},
   "source": [
    "# Data Preparation"
   ]
  },
  {
   "cell_type": "code",
   "execution_count": 3,
   "metadata": {
    "collapsed": false
   },
   "outputs": [],
   "source": [
    "X = data[[u'event_id', u'layer', u'iphi', u'x', u'y']].values\n",
    "y = data[[u'event_id', u'cluster_id']].values"
   ]
  },
  {
   "cell_type": "markdown",
   "metadata": {},
   "source": [
    "# Train/Test Split"
   ]
  },
  {
   "cell_type": "code",
   "execution_count": 4,
   "metadata": {
    "collapsed": true
   },
   "outputs": [],
   "source": [
    "from sklearn.model_selection import train_test_split\n",
    "\n",
    "event_ids = numpy.unique(data['event_id'].values)\n",
    "\n",
    "event_ids_train, event_ids_test = train_test_split(event_ids, \n",
    "                                                   test_size=1000, \n",
    "                                                   random_state=42)\n",
    "\n",
    "X_train, y_train = X[data['event_id'].isin(event_ids_train)], y[data['event_id'].isin(event_ids_train)]\n",
    "X_test, y_test = X[data['event_id'].isin(event_ids_test), 1:], y[data['event_id'].isin(event_ids_test)]"
   ]
  },
  {
   "cell_type": "markdown",
   "metadata": {},
   "source": [
    "# Track Pattern Recognition\n",
    "\n",
    "Just put here a script form the leaderboard."
   ]
  },
  {
   "cell_type": "code",
   "execution_count": 5,
   "metadata": {
    "collapsed": true
   },
   "outputs": [],
   "source": [
    "import numpy as np\n",
    "import math\n",
    "from sklearn.base import BaseEstimator\n",
    "from sklearn.cluster import DBSCAN\n",
    "\n",
    "RLayer=np.array([39,85,155,213,271,405,562,762,1000]) \n",
    "Pitch=np.array([0.025,0.025,0.025,0.025,0.025, 0.05, 0.05,0.05,0.05])\n",
    "MeasError=np.array([0.1,0.1,0.1,0.1,0.1,0.2,0.2,0.2,0.2])\n",
    "MS=np.array([1+i*0.05 for i in range(len(RLayer))])\n",
    "PhiSigma = MS*MeasError/RLayer\n",
    "SharedHitCost=7.5\n",
    "MaxDPhi=65.\n",
    "MinHits=3\n",
    "\n",
    "def RPhi(iLayer, iPhi):\n",
    "    return iPhi*Pitch[int(iLayer)]/RLayer[int(iLayer)]\n",
    "\n",
    "def deltaPhi(a, b):\n",
    "    delta = a - b\n",
    "    del2pi = a - b - 2*math.pi\n",
    "    if abs(delta) > abs(del2pi):\n",
    "        return del2pi\n",
    "    else:\n",
    "        return delta\n",
    "\n",
    "def get_phi(x,y):\n",
    "    x=np.array(x)\n",
    "    y=np.array(y)\n",
    "    return np.arctan2(y,x)\n",
    "\n",
    "class Clusterer(BaseEstimator):\n",
    "    def __init__(self, max_dphi=MaxDPhi):\n",
    "        \"\"\"\n",
    "        Track Pattern Recognition based on the connections between two nearest hits from two nearest detector layers.\n",
    "        Parameters\n",
    "        ----------\n",
    "        max_dphi : float\n",
    "            Minimum cos value between two nearest segments of the track.\n",
    "        \"\"\"\n",
    "        self.max_dphi = max_dphi*PhiSigma\n",
    "\n",
    "    def fit(self, X, y):\n",
    "        pass\n",
    "        \n",
    "    def predict_single_event(self, X_event):\n",
    "        #print \"predict single event\"\n",
    "        #print X_event[:, 0], X_event[:, 1]\n",
    "        layers = X_event[:, 0].astype(np.int)\n",
    "        rphi=np.zeros(len(layers))\n",
    "        for i in range(len(layers)):\n",
    "            rphi[i]=RPhi(X_event[i, 0], X_event[i, 1])\n",
    "        #print \"layer\", layers, \"rphi\", rphi\n",
    "        used=np.zeros(len(layers))\n",
    "        #usedVec = [[] for i in range(len(layers))]\n",
    "        labels = -1 * np.ones(len(rphi), dtype='int')\n",
    "        track_id = 0\n",
    "        #print len(layers), len(rphi)\n",
    "        #rphi = get_phi(X_event[:,2], X_event[:,3])\n",
    "        \n",
    "\n",
    "        # Start from an unused hit in the first and last three layer:\n",
    "        # -1,0,-2,1,-3,2\n",
    "        for iLayer in range(3):\n",
    "            currLayer=len(RLayer)-iLayer-1\n",
    "            #print \"currLayer \", currLayer\n",
    "            for first_id in np.arange(0, len(layers))[(layers == currLayer) * (used==0)]:\n",
    "                #print \"start new track with hit \", first_id, \" in layer \", currLayer\n",
    "                #print np.arange(0, len(layers))[layers == 8]\n",
    "                track = []\n",
    "                track += [first_id]\n",
    "\n",
    "                ave_d2phi=0\n",
    "                nHits=0\n",
    "                # Go through other detector layers outside in\n",
    "                for one_layer in reversed(np.unique(layers)[:currLayer]):\n",
    "                    #print \"one_layer\", one_layer\n",
    "                    # Select hits of the layer\n",
    "                    #hit_ids = np.arange(0, len(layers))[(layers == one_layer) * (used == 0)]\n",
    "                    hit_ids = np.arange(0, len(layers))[(layers == one_layer)]\n",
    "                    # Compute distance between hits\n",
    "                    diff_rphi = (SharedHitCost*used[hit_ids]+1) * np.abs(rphi[track[-1]] - rphi[hit_ids])\n",
    "                    #print \"diff_rphi\", diff_rphi\n",
    "                    if len(diff_rphi) == 0:\n",
    "                        continue\n",
    "                    # Select new track hit\n",
    "                    track_hit_id = np.array(hit_ids)[diff_rphi == diff_rphi.min()][0]\n",
    "                    # Check cos of angle between two track segments\n",
    "                    if one_layer != currLayer-1 and len(track)>2:\n",
    "                        #print \"track\", track\n",
    "                        #print track[-2], track[-1], track_hit_id\n",
    "                        rphi1, rphi2, rphi3 = rphi[track[-2]],  rphi[track[-1]], rphi[track_hit_id]\n",
    "                        dphi1 = deltaPhi(rphi2,rphi1)\n",
    "                        dphi2 = deltaPhi(rphi3,rphi2)\n",
    "                        d2phi = abs(dphi2-dphi1)\n",
    "                        #print track_hit_id, rphi1, rphi2, rphi3, dphi1, dphi2, dphi\n",
    "                        if abs(d2phi-ave_d2phi) > self.max_dphi[one_layer]:\n",
    "                            continue\n",
    "                        nHits+=1\n",
    "                        ave_d2phi = ((nHits-1)*ave_d2phi + d2phi) / nHits\n",
    "                    # Add new hit to the track\n",
    "                    track += [track_hit_id]\n",
    "                # Label the track hits\n",
    "                if len(track)>=MinHits:\n",
    "                    for id in track:\n",
    "                        #usedVec[id].append(track_id)\n",
    "                        used[id]+=1\n",
    "                    # Label the track hits\n",
    "                    labels[track] = track_id\n",
    "                    track_id += 1\n",
    "                    #print used\n",
    "                    #print labels\n",
    "\n",
    "            # Start from an unused hit in the first three layer\n",
    "            for first_id in np.arange(0, len(layers))[(layers == iLayer) * (used==0)]:\n",
    "                #print \"start new track with hit \", first_id, \" in layer\", iLayer\n",
    "                track = []\n",
    "                track += [first_id]\n",
    "                \n",
    "                ave_d2phi=0\n",
    "                nHits=0\n",
    "                # Go through other detector layers\n",
    "                for one_layer in np.unique(layers)[iLayer+1:]:\n",
    "                    #print \"one_layer\", one_layer\n",
    "                    # Select hits of the layer\n",
    "                    #hit_ids = np.arange(0, len(layers))[(layers == one_layer) * (used == 0)]\n",
    "                    hit_ids = np.arange(0, len(layers))[(layers == one_layer)]\n",
    "                    \n",
    "                    # print \"hit_ids\", hit_ids\n",
    "                    # Compute distance between hits, penalize hits used multiple times\n",
    "                    diff_rphi = (SharedHitCost*used[hit_ids]+1) * np.abs(rphi[track[-1]] - rphi[hit_ids])\n",
    "                    #print \"diff_rphi\", diff_rphi\n",
    "                    if len(diff_rphi) == 0:\n",
    "                        continue\n",
    "                    # Select new track hit\n",
    "                    track_hit_id = np.array(hit_ids)[diff_rphi == diff_rphi.min()][0]\n",
    "                    # Check cos of angle between two track segments\n",
    "                    if one_layer != iLayer+1 and len(track)>2:\n",
    "                        #print \"track\", track\n",
    "                        #print track[-2], track[-1], track_hit_id\n",
    "                        rphi1, rphi2, rphi3 = rphi[track[-2]],  rphi[track[-1]], rphi[track_hit_id]\n",
    "                        dphi1 = deltaPhi(rphi2,rphi1)\n",
    "                        dphi2 = deltaPhi(rphi3,rphi2)\n",
    "                        d2phi = dphi2-dphi1\n",
    "                        #print \"nhits, d2phi, ave_d2phi\", nHits,d2phi, ave_d2phi\n",
    "                        #print track_hit_id, rphi1, rphi2, rphi3, dphi1, dphi2, dphi\n",
    "                        if abs(d2phi-ave_d2phi) > self.max_dphi[one_layer]:\n",
    "                            continue\n",
    "                        nHits+=1\n",
    "                        ave_d2phi = ((nHits-1)*ave_d2phi + d2phi) / nHits\n",
    "                    # Add new hit to the track\n",
    "                    track += [track_hit_id]\n",
    "                # Label the track hits\n",
    "                if len(track)>=MinHits:\n",
    "                    for id in track:\n",
    "                        #usedVec[id].append(track_id)\n",
    "                        used[id]+=1\n",
    "                        labels[track] = track_id\n",
    "                        track_id += 1\n",
    "                #print used\n",
    "                #print labels\n",
    "\n",
    "\n",
    "\n",
    "        return labels\n"
   ]
  },
  {
   "cell_type": "code",
   "execution_count": 6,
   "metadata": {
    "collapsed": false
   },
   "outputs": [],
   "source": [
    "ctr = Clusterer()\n",
    "ctr.fit(X_train, y_train)"
   ]
  },
  {
   "cell_type": "code",
   "execution_count": 7,
   "metadata": {
    "collapsed": false
   },
   "outputs": [
    {
     "name": "stdout",
     "output_type": "stream",
     "text": [
      "CPU times: user 5.58 s, sys: 90.7 ms, total: 5.67 s\n",
      "Wall time: 6 s\n"
     ]
    }
   ],
   "source": [
    "%%time\n",
    "from metrics import predictor\n",
    "\n",
    "y_pred_test = predictor(ctr, X_test, y_test)"
   ]
  },
  {
   "cell_type": "markdown",
   "metadata": {},
   "source": [
    "## Score"
   ]
  },
  {
   "cell_type": "code",
   "execution_count": 8,
   "metadata": {
    "collapsed": false
   },
   "outputs": [
    {
     "data": {
      "text/plain": [
       "0.9293258836144813"
      ]
     },
     "execution_count": 8,
     "metadata": {},
     "output_type": "execute_result"
    }
   ],
   "source": [
    "score = submission.score_function(y_test, y_pred_test)\n",
    "score"
   ]
  },
  {
   "cell_type": "markdown",
   "metadata": {},
   "source": [
    "## Additional Quality Metrics"
   ]
  },
  {
   "cell_type": "code",
   "execution_count": 9,
   "metadata": {
    "collapsed": false
   },
   "outputs": [],
   "source": [
    "from metrics import RecognitionQuality\n",
    "\n",
    "rq = RecognitionQuality(track_eff_threshold=0.7, min_hits_per_track=5)\n",
    "report_event, report_tracks = rq.calculate(y_test, y_pred_test)"
   ]
  },
  {
   "cell_type": "code",
   "execution_count": 10,
   "metadata": {
    "collapsed": false
   },
   "outputs": [
    {
     "data": {
      "text/plain": [
       "ReconstructionEfficiency    0.897058\n",
       "GhostRate                   0.060885\n",
       "CloneRate                   0.000425\n",
       "AvgTrackEfficiency          0.949561\n",
       "dtype: float64"
      ]
     },
     "execution_count": 10,
     "metadata": {},
     "output_type": "execute_result"
    }
   ],
   "source": [
    "report_event.mean(axis=0)[1:]"
   ]
  },
  {
   "cell_type": "markdown",
   "metadata": {},
   "source": [
    "# The Metrics Comparison"
   ]
  },
  {
   "cell_type": "code",
   "execution_count": 11,
   "metadata": {
    "collapsed": true
   },
   "outputs": [],
   "source": [
    "X = [10, 50, 100, 150]#[5, 10, 15, 20, 25, 30, 35, 40, 50, 60, 65, 70, 80, 100, 120, 140, 160, 200, 250]"
   ]
  },
  {
   "cell_type": "code",
   "execution_count": 12,
   "metadata": {
    "collapsed": false
   },
   "outputs": [
    {
     "name": "stdout",
     "output_type": "stream",
     "text": [
      "10\n",
      "50\n",
      "100\n",
      "150\n"
     ]
    }
   ],
   "source": [
    "score = []\n",
    "reco_eff = []\n",
    "clone_r = []\n",
    "ghost_r = []\n",
    "\n",
    "for c in X:\n",
    "    \n",
    "    ctr = Clusterer(c)\n",
    "    ctr.fit(X_train, y_train)\n",
    "    y_pred_test = predictor(ctr, X_test, y_test)\n",
    "    \n",
    "    score_one = submission.score_function(y_test, y_pred_test)\n",
    "    score.append(score_one)\n",
    "    \n",
    "    rq = RecognitionQuality(track_eff_threshold=0.7, min_hits_per_track=5)\n",
    "    report_event, _ = rq.calculate(y_test, y_pred_test)\n",
    "    \n",
    "    reco_eff_one = report_event.mean(axis=0)[1:]['ReconstructionEfficiency']\n",
    "    reco_eff.append(reco_eff_one)\n",
    "    \n",
    "    clone_r_one = report_event.mean(axis=0)[1:]['CloneRate']\n",
    "    clone_r.append(clone_r_one)\n",
    "    \n",
    "    ghost_r_one = report_event.mean(axis=0)[1:]['GhostRate']\n",
    "    ghost_r.append(ghost_r_one)\n",
    "    \n",
    "    print c"
   ]
  },
  {
   "cell_type": "code",
   "execution_count": 13,
   "metadata": {
    "collapsed": true
   },
   "outputs": [],
   "source": [
    "df = pandas.DataFrame()\n",
    "df['X'] = X\n",
    "df['ScoreHack2D'] = score\n",
    "df['RecoEff'] = reco_eff\n",
    "df['CloneRate'] = clone_r\n",
    "df['GhostRate'] = ghost_r\n",
    "\n",
    "df.to_csv('plots/delphi_'+name+'.csv', index=False)"
   ]
  },
  {
   "cell_type": "code",
   "execution_count": 14,
   "metadata": {
    "collapsed": false
   },
   "outputs": [
    {
     "data": {
      "image/png": "[encoded data removed]",
      "text/plain": [
       "<matplotlib.figure.Figure at 0x10d284810>"
      ]
     },
     "metadata": {},
     "output_type": "display_data"
    }
   ],
   "source": [
    "plt.figure(figsize=(12, 8))\n",
    "\n",
    "plt.plot(X, score, label='ScoreHack2D', linewidth=4, color='r')\n",
    "plt.plot(X, reco_eff, label='Reco Eff.', linewidth=4, color='gold')\n",
    "plt.plot(X, clone_r, label='Clone Rate', linewidth=4, color='blue')\n",
    "plt.plot(X, ghost_r, label='Ghost Rate', linewidth=4, color='green')\n",
    "\n",
    "plt.title('Method: Delphi Multilayer', size=20)\n",
    "plt.xlabel('Method Parameter: max_dphi', size=20)\n",
    "\n",
    "plt.xticks(size=20)\n",
    "plt.yticks(size=20)\n",
    "\n",
    "plt.ylim(0, 1)\n",
    "\n",
    "plt.legend(loc='best', prop={'size':20})\n",
    "plt.grid(b=1)\n",
    "\n",
    "plt.savefig('plots/delphi_'+name+'.png',format='png')\n",
    "plt.show()"
   ]
  },
  {
   "cell_type": "code",
   "execution_count": null,
   "metadata": {
    "collapsed": true
   },
   "outputs": [],
   "source": []
  }
 ],
 "metadata": {
  "kernelspec": {
   "display_name": "Python 2",
   "language": "python",
   "name": "python2"
  },
  "language_info": {
   "codemirror_mode": {
    "name": "ipython",
    "version": 2
   },
   "file_extension": ".py",
   "mimetype": "text/x-python",
   "name": "python",
   "nbconvert_exporter": "python",
   "pygments_lexer": "ipython2",
   "version": "2.7.13"
  }
 },
 "nbformat": 4,
 "nbformat_minor": 0
}
